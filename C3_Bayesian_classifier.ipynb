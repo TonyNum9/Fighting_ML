{
 "cells": [
  {
   "cell_type": "code",
   "execution_count": 1,
   "metadata": {},
   "outputs": [
    {
     "name": "stderr",
     "output_type": "stream",
     "text": [
      "S:\\Anaconda3\\lib\\site-packages\\sklearn\\cross_validation.py:41: DeprecationWarning: This module was deprecated in version 0.18 in favor of the model_selection module into which all the refactored classes and functions are moved. Also note that the interface of the new CV iterators are different from that of this module. This module will be removed in 0.20.\n",
      "  \"This module will be removed in 0.20.\", DeprecationWarning)\n"
     ]
    }
   ],
   "source": [
    "from sklearn import datasets,cross_validation,naive_bayes\n",
    "import numpy as np\n",
    "import matplotlib.pyplot as plt"
   ]
  },
  {
   "cell_type": "markdown",
   "metadata": {},
   "source": [
    "观察我们所需要的数据集Digit Dataset"
   ]
  },
  {
   "cell_type": "code",
   "execution_count": 7,
   "metadata": {},
   "outputs": [],
   "source": [
    "def show_digits():\n",
    "    digits = datasets.load_digits()\n",
    "    fig = plt.figure()\n",
    "    print(\"vector from images 0:\", digits.data[0])\n",
    "    for i in range(25):\n",
    "        ax = fig.add_subplot(5,5,i+1)\n",
    "        ax.imshow(digits.images[i],cmap=plt.cm.gray_r, interpolation='nearest')\n",
    "    plt.show()"
   ]
  },
  {
   "cell_type": "code",
   "execution_count": 8,
   "metadata": {},
   "outputs": [
    {
     "name": "stdout",
     "output_type": "stream",
     "text": [
      "vector from images 0: [ 0.  0.  5. 13.  9.  1.  0.  0.  0.  0. 13. 15. 10. 15.  5.  0.  0.  3.\n",
      " 15.  2.  0. 11.  8.  0.  0.  4. 12.  0.  0.  8.  8.  0.  0.  5.  8.  0.\n",
      "  0.  9.  8.  0.  0.  4. 11.  0.  1. 12.  7.  0.  0.  2. 14.  5. 10. 12.\n",
      "  0.  0.  0.  0.  6. 13. 10.  0.  0.  0.]\n"
     ]
    },
    {
     "data": {
      "image/png": "[encoded data removed]",
      "text/plain": [
       "<Figure size 432x288 with 25 Axes>"
      ]
     },
     "metadata": {
      "needs_background": "light"
     },
     "output_type": "display_data"
    }
   ],
   "source": [
    "show_digits()"
   ]
  },
  {
   "cell_type": "code",
   "execution_count": 13,
   "metadata": {},
   "outputs": [],
   "source": [
    "def load_data():\n",
    "    digits = datasets.load_digits()\n",
    "    return cross_validation.train_test_split(digits.data, digits.target, test_size=0.25, random_state=0)"
   ]
  },
  {
   "cell_type": "markdown",
   "metadata": {},
   "source": [
    "---"
   ]
  },
  {
   "cell_type": "markdown",
   "metadata": {},
   "source": [
    "1.高斯贝叶斯分类器 GaussianNB"
   ]
  },
  {
   "cell_type": "code",
   "execution_count": 14,
   "metadata": {},
   "outputs": [],
   "source": [
    "def test_GaussianNB(*data):\n",
    "    X_train,X_test,y_train,y_test = data\n",
    "    cls = naive_bayes.GaussianNB()\n",
    "    cls.fit(X_train,y_train)\n",
    "    print('Training Score:%f'%cls.score(X_train,y_train))\n",
    "    print('Testing Score:%f'%cls.score(X_test,y_test))"
   ]
  },
  {
   "cell_type": "code",
   "execution_count": 15,
   "metadata": {},
   "outputs": [
    {
     "name": "stdout",
     "output_type": "stream",
     "text": [
      "Training Score:0.857461\n",
      "Testing Score:0.833333\n"
     ]
    }
   ],
   "source": [
    "X_train,X_test,y_train,y_test = load_data()\n",
    "test_GaussianNB(X_train,X_test,y_train,y_test)"
   ]
  },
  {
   "cell_type": "markdown",
   "metadata": {},
   "source": [
    "---"
   ]
  },
  {
   "cell_type": "markdown",
   "metadata": {},
   "source": [
    "2.多项式贝叶斯分类器MultinomialNB"
   ]
  },
  {
   "cell_type": "code",
   "execution_count": 19,
   "metadata": {},
   "outputs": [],
   "source": [
    "def test_MultinomialNB(*data):\n",
    "    X_train,X_test,y_train,y_test = data\n",
    "    cls = naive_bayes.MultinomialNB()\n",
    "    cls.fit(X_train,y_train)\n",
    "    print('Training Score:%f'%cls.score(X_train,y_train))\n",
    "    print('Testing Score:%f'%cls.score(X_test,y_test))"
   ]
  },
  {
   "cell_type": "code",
   "execution_count": 21,
   "metadata": {},
   "outputs": [
    {
     "name": "stdout",
     "output_type": "stream",
     "text": [
      "Training Score:0.906459\n",
      "Testing Score:0.908889\n"
     ]
    }
   ],
   "source": [
    "X_train,X_test,y_train,y_test = load_data()\n",
    "test_MultinomialNB(X_train,X_test,y_train,y_test)"
   ]
  },
  {
   "cell_type": "markdown",
   "metadata": {},
   "source": [
    "检验不同的$\\alpha$对多项式贝叶斯分类器的影响："
   ]
  },
  {
   "cell_type": "code",
   "execution_count": 24,
   "metadata": {},
   "outputs": [],
   "source": [
    "def test_MultinomialNB_alpha(*data):\n",
    "    X_train,X_test,y_train,y_test = data\n",
    "    alphas = np.logspace(-2,5,num=200)\n",
    "    train_score=[]\n",
    "    test_score=[]\n",
    "    for alpha in alphas:\n",
    "        cls=naive_bayes.MultinomialNB(alpha=alpha)\n",
    "        cls.fit(X_train,y_train)\n",
    "        train_score.append(cls.score(X_train,y_train))\n",
    "        test_score.append(cls.score(X_test,y_test))\n",
    "    \n",
    "    ### 绘图\n",
    "    fig = plt.figure()\n",
    "    ax = fig.add_subplot(1,1,1)\n",
    "    ax.plot(alphas,train_score,label=\"Training Score\")\n",
    "    ax.plot(alphas,test_score,label=\"Testing Score\")\n",
    "    ax.set_xlabel(r\"$\\alpha$\")\n",
    "    ax.set_ylabel(\"score\")\n",
    "    ax.set_ylim(0,1.0)\n",
    "    ax.set_title(\"Multinomial\")\n",
    "    ax.set_xscale(\"log\")\n",
    "    plt.show()"
   ]
  },
  {
   "cell_type": "code",
   "execution_count": 25,
   "metadata": {},
   "outputs": [
    {
     "data": {
      "image/png": "[encoded data removed]",
      "text/plain": [
       "<Figure size 432x288 with 1 Axes>"
      ]
     },
     "metadata": {
      "needs_background": "light"
     },
     "output_type": "display_data"
    }
   ],
   "source": [
    "X_train,X_test,y_train,y_test = load_data()\n",
    "test_MultinomialNB_alpha(X_train,X_test,y_train,y_test)"
   ]
  },
  {
   "cell_type": "markdown",
   "metadata": {},
   "source": [
    "___"
   ]
  },
  {
   "cell_type": "markdown",
   "metadata": {},
   "source": [
    "3.伯努利贝叶斯分类器BernoulliNB"
   ]
  },
  {
   "cell_type": "code",
   "execution_count": 26,
   "metadata": {},
   "outputs": [],
   "source": [
    "def test_BernoulliNB(*data):\n",
    "    X_train,X_test,y_train,y_test = data\n",
    "    cls = naive_bayes.BernoulliNB()\n",
    "    cls.fit(X_train,y_train)\n",
    "    print('Training Score:%f'%cls.score(X_train,y_train))\n",
    "    print('Testing Score:%f'%cls.score(X_test,y_test))"
   ]
  },
  {
   "cell_type": "code",
   "execution_count": 27,
   "metadata": {},
   "outputs": [
    {
     "name": "stdout",
     "output_type": "stream",
     "text": [
      "Training Score:0.867112\n",
      "Testing Score:0.851111\n"
     ]
    }
   ],
   "source": [
    "X_train,X_test,y_train,y_test = load_data()\n",
    "test_BernoulliNB(X_train,X_test,y_train,y_test)"
   ]
  },
  {
   "cell_type": "markdown",
   "metadata": {},
   "source": [
    "检验不同的$\\alpha$对伯努利贝叶斯分类器的影响："
   ]
  },
  {
   "cell_type": "code",
   "execution_count": 29,
   "metadata": {},
   "outputs": [],
   "source": [
    "def test_BernoulliNB_alpha(*data):\n",
    "    X_train,X_test,y_train,y_test = data\n",
    "    alphas = np.logspace(-2,5,num=200)\n",
    "    train_score=[]\n",
    "    test_score=[]\n",
    "    for alpha in alphas:\n",
    "        cls=naive_bayes.BernoulliNB(alpha=alpha)\n",
    "        cls.fit(X_train,y_train)\n",
    "        train_score.append(cls.score(X_train,y_train))\n",
    "        test_score.append(cls.score(X_test,y_test))\n",
    "    \n",
    "    ### 绘图\n",
    "    fig = plt.figure()\n",
    "    ax = fig.add_subplot(1,1,1)\n",
    "    ax.plot(alphas,train_score,label=\"Training Score\")\n",
    "    ax.plot(alphas,test_score,label=\"Testing Score\")\n",
    "    ax.set_xlabel(r\"$\\alpha$\")\n",
    "    ax.set_ylabel(\"score\")\n",
    "    ax.set_ylim(0,1.0)\n",
    "    ax.set_title(\"BernoulliNB\")\n",
    "    ax.set_xscale(\"log\")\n",
    "    ax.legend(loc=\"best\")\n",
    "    plt.show()"
   ]
  },
  {
   "cell_type": "code",
   "execution_count": 30,
   "metadata": {},
   "outputs": [
    {
     "data": {
      "image/png": "[encoded data removed]",
      "text/plain": [
       "<Figure size 432x288 with 1 Axes>"
      ]
     },
     "metadata": {
      "needs_background": "light"
     },
     "output_type": "display_data"
    }
   ],
   "source": [
    "X_train,X_test,y_train,y_test = load_data()\n",
    "test_BernoulliNB_alpha(X_train,X_test,y_train,y_test)"
   ]
  },
  {
   "cell_type": "markdown",
   "metadata": {},
   "source": [
    "考察binarize参数对伯努利贝叶斯分类器的预测性能的影响："
   ]
  },
  {
   "cell_type": "code",
   "execution_count": 33,
   "metadata": {},
   "outputs": [],
   "source": [
    "def test_BernoulliNB_binarize(*data):\n",
    "    X_train,X_test,y_train,y_test = data\n",
    "    min_x=min(np.min(X_train.ravel()), np.min(X_test.ravel())) - 0.1\n",
    "    max_x=min(np.max(X_train.ravel()), np.max(X_test.ravel())) + 0.1\n",
    "    binarizes = np.linspace(min_x,max_x,endpoint=True,num=100)\n",
    "    train_score=[]\n",
    "    test_score=[]\n",
    "    for binarize in binarizes:\n",
    "        cls=naive_bayes.BernoulliNB(binarize=binarize)\n",
    "        cls.fit(X_train,y_train)\n",
    "        train_score.append(cls.score(X_train,y_train))\n",
    "        test_score.append(cls.score(X_test,y_test))\n",
    "    \n",
    "    ### 绘图\n",
    "    fig = plt.figure()\n",
    "    ax = fig.add_subplot(1,1,1)\n",
    "    ax.plot(binarizes,train_score,label=\"Training Score\")\n",
    "    ax.plot(binarizes,test_score,label=\"Testing Score\")\n",
    "    ax.set_xlabel(\"binarize\")\n",
    "    ax.set_ylabel(\"score\")\n",
    "    ax.set_ylim(0,1.0)\n",
    "    ax.set_xlim(min_x-1,max_x+1)\n",
    "    ax.set_title(\"BernoulliNB\")\n",
    "    ax.set_xscale(\"log\")\n",
    "    ax.legend(loc=\"best\")\n",
    "    plt.show()"
   ]
  },
  {
   "cell_type": "code",
   "execution_count": 36,
   "metadata": {},
   "outputs": [
    {
     "data": {
      "image/png": "[encoded data removed]",
      "text/plain": [
       "<Figure size 432x288 with 1 Axes>"
      ]
     },
     "metadata": {
      "needs_background": "light"
     },
     "output_type": "display_data"
    }
   ],
   "source": [
    "X_train,X_test,y_train,y_test = load_data()\n",
    "test_BernoulliNB_binarize(X_train,X_test,y_train,y_test)"
   ]
  },
  {
   "cell_type": "code",
   "execution_count": null,
   "metadata": {},
   "outputs": [],
   "source": []
  }
 ],
 "metadata": {
  "kernelspec": {
   "display_name": "Python 3",
   "language": "python",
   "name": "python3"
  },
  "language_info": {
   "codemirror_mode": {
    "name": "ipython",
    "version": 3
   },
   "file_extension": ".py",
   "mimetype": "text/x-python",
   "name": "python",
   "nbconvert_exporter": "python",
   "pygments_lexer": "ipython3",
   "version": "3.7.0"
  }
 },
 "nbformat": 4,
 "nbformat_minor": 2
}
