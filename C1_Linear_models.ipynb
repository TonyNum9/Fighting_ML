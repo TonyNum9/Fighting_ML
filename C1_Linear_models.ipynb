{
 "cells": [
  {
   "cell_type": "markdown",
   "metadata": {},
   "source": [
    "这个文档实现的是4个线性模型：(sklearn.linear_model)\n",
    "1. 线性回归模型(.LinearRegression)\n",
    "2. 线性回归模型的**正则化**:岭回归(.Ridge)(考察$\\alpha$)lasso(.Lasso)(考察$\\alpha$)弹性网(.ElasticNet)(考察$\\alpha,\\rho$)\n",
    "3. 逻辑回归(.LogisticRegressor)(考察C)\n",
    "4. 线性判别分析/LDA（.LinearDiscriminantAnalysis）(考察solver)"
   ]
  },
  {
   "cell_type": "code",
   "execution_count": 29,
   "metadata": {},
   "outputs": [],
   "source": [
    "import matplotlib.pyplot as plt\n",
    "import numpy as np\n",
    "from sklearn import datasets, linear_model, discriminant_analysis, cross_validation"
   ]
  },
  {
   "cell_type": "markdown",
   "metadata": {},
   "source": [
    "首先，加载数据集函数，返回一个元组\n",
    "这个数据集是sklearn自带的糖尿病病人数据集，有442个样本，10个特征，每个特征都是 -0.2到0.2之间，\n",
    "目标在 25-346之间"
   ]
  },
  {
   "cell_type": "code",
   "execution_count": 30,
   "metadata": {},
   "outputs": [],
   "source": [
    "def load_data():\n",
    "    diabetes = datasets.load_diabetes()\n",
    "    return cross_validation.train_test_split(diabetes.data, diabetes.target, test_size=0.25, random_state=0)"
   ]
  },
  {
   "cell_type": "markdown",
   "metadata": {},
   "source": [
    "然后，编写使用**线性回归**的函数："
   ]
  },
  {
   "cell_type": "code",
   "execution_count": 31,
   "metadata": {},
   "outputs": [],
   "source": [
    "def test_LinearRegression(*data):\n",
    "    X_train,X_test,y_train,y_test = data\n",
    "    regr = linear_model.LinearRegression()  # 这里的 4 个参数都采用默认值\n",
    "    regr.fit(X_train,y_train)\n",
    "    \n",
    "    print('Cofficients:%s, intercept:%.2f,'%(regr.coef_, regr.intercept_))\n",
    "    print(\"Residual sum of squares:%.2f\"% np.mean((regr.predict(X_test)-y_test)**2))\n",
    "    print('Score: %.2f'% regr.score(X_test, y_test))"
   ]
  },
  {
   "cell_type": "code",
   "execution_count": 32,
   "metadata": {},
   "outputs": [
    {
     "name": "stdout",
     "output_type": "stream",
     "text": [
      "Cofficients:[ -43.26774487 -208.67053951  593.39797213  302.89814903 -560.27689824\n",
      "  261.47657106   -8.83343952  135.93715156  703.22658427   28.34844354], intercept:153.07,\n",
      "Residual sum of squares:3180.20\n",
      "Score: 0.36\n"
     ]
    }
   ],
   "source": [
    "X_train,X_test,y_train,y_test = load_data()\n",
    "test_LinearRegression(X_train,X_test,y_train,y_test)"
   ]
  },
  {
   "cell_type": "markdown",
   "metadata": {},
   "source": [
    "说明：预测得分是0.36，这个值是越大越好，1是最好"
   ]
  },
  {
   "cell_type": "markdown",
   "metadata": {},
   "source": [
    "---"
   ]
  },
  {
   "cell_type": "markdown",
   "metadata": {},
   "source": [
    "---"
   ]
  },
  {
   "cell_type": "markdown",
   "metadata": {},
   "source": [
    "线性回归模型的正则化之**岭回归**，使用Ridge的函数如下："
   ]
  },
  {
   "cell_type": "code",
   "execution_count": 33,
   "metadata": {},
   "outputs": [],
   "source": [
    "def test_Ridge(*data):\n",
    "    X_train,X_test,y_train,y_test = data\n",
    "    regr = linear_model.Ridge()    # 这里的 8 个参数都采用默认值\n",
    "    regr.fit(X_train,y_train)\n",
    "    \n",
    "    print('Cofficients:%s, intercept:%.2f,'%(regr.coef_, regr.intercept_))\n",
    "    print(\"Residual sum of squares:%.2f\"% np.mean((regr.predict(X_test)-y_test)**2))\n",
    "    print('Score: %.2f'% regr.score(X_test, y_test))"
   ]
  },
  {
   "cell_type": "code",
   "execution_count": 34,
   "metadata": {},
   "outputs": [
    {
     "name": "stdout",
     "output_type": "stream",
     "text": [
      "Cofficients:[  21.19927911  -60.47711393  302.87575204  179.41206395    8.90911449\n",
      "  -28.8080548  -149.30722541  112.67185758  250.53760873   99.57749017], intercept:152.45,\n",
      "Residual sum of squares:3192.33\n",
      "Score: 0.36\n"
     ]
    }
   ],
   "source": [
    "X_train,X_test,y_train,y_test = load_data()\n",
    "test_Ridge(X_train,X_test,y_train,y_test)"
   ]
  },
  {
   "cell_type": "markdown",
   "metadata": {},
   "source": [
    "预测得分分析同上"
   ]
  },
  {
   "cell_type": "markdown",
   "metadata": {},
   "source": [
    "下面要检验不同的$\\alpha$值对于预测性能的影响，编写测试函数"
   ]
  },
  {
   "cell_type": "code",
   "execution_count": 35,
   "metadata": {},
   "outputs": [],
   "source": [
    "def test_Ridge_alpha(*data):\n",
    "    X_train,X_test,y_train,y_test = data\n",
    "    alphas = [0.01, 0.02, 0.05, 0.1, 0.2, 0.5, 1, 2, 5, 10, 20, 50, 100, 200, 500, 1000]\n",
    "    scores = []\n",
    "    \n",
    "    for i,alpha in enumerate(alphas):     # enumerate 函数的用法\n",
    "        regr = linear_model.Ridge(alpha=alpha)\n",
    "        regr.fit(X_train,y_train)\n",
    "        scores.append(regr.score(X_test,y_test))\n",
    "        \n",
    "    ### 绘图            具体内容可以参考《利用python进行数据分析》一书的第8章内容\n",
    "    fig = plt.figure()\n",
    "    ax = fig.add_subplot(1,1,1)\n",
    "    ax.plot(alphas, scores)\n",
    "    ax.set_xlabel(r\"$\\alpha$\")\n",
    "    ax.set_ylabel(r\"score\")\n",
    "    ax.set_xscale('log')\n",
    "    ax.set_title(\"Ridge\")\n",
    "    plt.show()"
   ]
  },
  {
   "cell_type": "code",
   "execution_count": 36,
   "metadata": {},
   "outputs": [
    {
     "data": {
      "image/png": "[encoded data removed]",
      "text/plain": [
       "<Figure size 432x288 with 1 Axes>"
      ]
     },
     "metadata": {
      "needs_background": "light"
     },
     "output_type": "display_data"
    }
   ],
   "source": [
    "X_train,X_test,y_train,y_test = load_data()\n",
    "test_Ridge_alpha(X_train,X_test,y_train,y_test)"
   ]
  },
  {
   "cell_type": "markdown",
   "metadata": {},
   "source": [
    "---"
   ]
  },
  {
   "cell_type": "markdown",
   "metadata": {},
   "source": [
    "线性回归模型的正则化之**Lasso**，使用Lasso的函数如下："
   ]
  },
  {
   "cell_type": "code",
   "execution_count": 37,
   "metadata": {},
   "outputs": [],
   "source": [
    "def test_Lasso(*data):\n",
    "    X_train,X_test,y_train,y_test = data\n",
    "    regr = linear_model.Lasso()    # 这里的 11 个参数都采用默认值\n",
    "    regr.fit(X_train,y_train)\n",
    "    \n",
    "    print('Coefficinets:%s, intercept:%.2f'% (regr.coef_,regr.intercept_))\n",
    "    print(\"Residual sum of squares:%.2f\"% np.mean((regr.predict(X_test)-y_test)**2))\n",
    "    print('Score:%.2f'% regr.score(X_test,y_test))\n"
   ]
  },
  {
   "cell_type": "code",
   "execution_count": 38,
   "metadata": {},
   "outputs": [
    {
     "name": "stdout",
     "output_type": "stream",
     "text": [
      "Coefficinets:[  0.          -0.         442.67992538   0.           0.\n",
      "   0.          -0.           0.         330.76014648   0.        ], intercept:152.52\n",
      "Residual sum of squares:3583.42\n",
      "Score:0.28\n"
     ]
    }
   ],
   "source": [
    "X_train,X_test,y_train,y_test = load_data()\n",
    "test_Lasso(X_train,X_test,y_train,y_test)"
   ]
  },
  {
   "cell_type": "markdown",
   "metadata": {},
   "source": [
    "预测得分分析同上"
   ]
  },
  {
   "cell_type": "markdown",
   "metadata": {},
   "source": [
    "下面要检验不同的α \n",
    "值对于预测性能的影响，编写测试函数"
   ]
  },
  {
   "cell_type": "code",
   "execution_count": 39,
   "metadata": {},
   "outputs": [],
   "source": [
    "def test_Lasso_alpha(*data):\n",
    "    X_train,X_test,y_train,y_test = data\n",
    "    alphas = [0.01, 0.02, 0.05, 0.1, 0.2, 0.5, 1, 2, 5, 10, 20, 50, 100, 200 ,500, 1000]\n",
    "    scores = []\n",
    "    \n",
    "    for i,alpha in enumerate(alphas):\n",
    "        regr = linear_model.Lasso(alpha = alpha)\n",
    "        regr.fit(X_train, y_train)\n",
    "        scores.append(regr.score(X_test,y_test))\n",
    "        \n",
    "    ### 绘图            具体内容可以参考《利用python进行数据分析》一书的第8章内容\n",
    "    fig = plt.figure()\n",
    "    ax = fig.add_subplot(1,1,1)\n",
    "    ax.plot(alphas, scores)\n",
    "    ax.set_xlabel(r\"$\\alpha$\")\n",
    "    ax.set_ylabel(r\"score\")\n",
    "    ax.set_xscale('log')\n",
    "    ax.set_title(\"Lasso\")\n",
    "    plt.show()"
   ]
  },
  {
   "cell_type": "code",
   "execution_count": 40,
   "metadata": {},
   "outputs": [
    {
     "data": {
      "image/png": "[encoded data removed]",
      "text/plain": [
       "<Figure size 432x288 with 1 Axes>"
      ]
     },
     "metadata": {
      "needs_background": "light"
     },
     "output_type": "display_data"
    }
   ],
   "source": [
    "X_train,X_test,y_train,y_test = load_data()\n",
    "test_Lasso_alpha(X_train,X_test,y_train,y_test)"
   ]
  },
  {
   "cell_type": "markdown",
   "metadata": {},
   "source": [
    "---"
   ]
  },
  {
   "cell_type": "markdown",
   "metadata": {},
   "source": [
    "线性回归模型的正则化之**ElasticNet**，使用ElasticNet的函数如下："
   ]
  },
  {
   "cell_type": "code",
   "execution_count": 41,
   "metadata": {},
   "outputs": [],
   "source": [
    "def test_ElasticNet(*data):\n",
    "    X_train,X_test,y_train,y_test = data\n",
    "    regr = linear_model.ElasticNet()    # 这里的 12 个参数都采用默认值\n",
    "    regr.fit(X_train,y_train)\n",
    "    \n",
    "    print('Coefficinets:%s, intercept:%.2f'% (regr.coef_,regr.intercept_))\n",
    "    print(\"Residual sum of squares:%.2f\"% np.mean((regr.predict(X_test)-y_test)**2))\n",
    "    print('Score:%.2f'% regr.score(X_test,y_test))"
   ]
  },
  {
   "cell_type": "code",
   "execution_count": 42,
   "metadata": {},
   "outputs": [
    {
     "name": "stdout",
     "output_type": "stream",
     "text": [
      "Coefficinets:[ 0.40560736  0.          3.76542456  2.38531508  0.58677945  0.22891647\n",
      " -2.15858149  2.33867566  3.49846121  1.98299707], intercept:151.93\n",
      "Residual sum of squares:4922.36\n",
      "Score:0.01\n"
     ]
    }
   ],
   "source": [
    "X_train,X_test,y_train,y_test = load_data()\n",
    "test_ElasticNet(X_train,X_test,y_train,y_test)"
   ]
  },
  {
   "cell_type": "markdown",
   "metadata": {},
   "source": [
    "下面要检验不同的α $\\rho$值对于预测性能的影响，编写测试函数"
   ]
  },
  {
   "cell_type": "code",
   "execution_count": 43,
   "metadata": {},
   "outputs": [],
   "source": [
    "def test_ElasticNet_alpha_rho(*data):\n",
    "    X_train,X_test,y_train,y_test = data\n",
    "    alphas = np.logspace(-2,2)\n",
    "    rhos = np.linspace(0.01,1)\n",
    "    scores = []\n",
    "    \n",
    "    for alpha in alphas:\n",
    "        for rho in rhos:\n",
    "            regr = linear_model.ElasticNet(alpha = alpha, l1_ratio = rho)\n",
    "            regr.fit(X_train,y_train)\n",
    "            scores.append(regr.score(X_test,y_test))\n",
    "            \n",
    "    ### 绘图       具体内容可以参考《利用python进行数据分析》一书的第8章内容\n",
    "    alphas, rhos = np.meshgrid(alphas,rhos)\n",
    "    scores = np.array(scores).reshape(alphas.shape)\n",
    "    from mpl_toolkits.mplot3d import Axes3D\n",
    "    from matplotlib import cm\n",
    "    fig = plt.figure()\n",
    "    ax = Axes3D(fig)\n",
    "    surf = ax.plot_surface(alphas, rhos, scores, rstride=1, cstride=1, cmap=cm.jet, linewidth=0, antialiased=False)\n",
    "    fig.colorbar(surf, shrink=0.5, aspect=5)\n",
    "    ax.set_xlabel(r\"$\\alpha$\")\n",
    "    ax.set_ylabel(r\"$\\rho$\")\n",
    "    ax.set_zlabel(\"score\")\n",
    "    ax.set_title(\"ElasticNet\")\n",
    "    plt.show()           "
   ]
  },
  {
   "cell_type": "code",
   "execution_count": 44,
   "metadata": {},
   "outputs": [
    {
     "data": {
      "image/png": "[encoded data removed]",
      "text/plain": [
       "<Figure size 432x288 with 2 Axes>"
      ]
     },
     "metadata": {
      "needs_background": "light"
     },
     "output_type": "display_data"
    }
   ],
   "source": [
    "X_train,X_test,y_train,y_test = load_data()\n",
    "test_ElasticNet_alpha_rho(X_train,X_test,y_train,y_test)"
   ]
  },
  {
   "cell_type": "markdown",
   "metadata": {},
   "source": [
    "---"
   ]
  },
  {
   "cell_type": "markdown",
   "metadata": {},
   "source": [
    "---"
   ]
  },
  {
   "cell_type": "markdown",
   "metadata": {},
   "source": [
    "**逻辑回归模型**\n",
    "    \n",
    "    这个示例采用的是鸢尾花数据集，这个数据集一共有150个数据，有3类，每类50个数据，每个数据有4个属性"
   ]
  },
  {
   "cell_type": "markdown",
   "metadata": {},
   "source": [
    "加载数据"
   ]
  },
  {
   "cell_type": "code",
   "execution_count": 45,
   "metadata": {},
   "outputs": [],
   "source": [
    "def load_data():\n",
    "    iris = datasets.load_iris()\n",
    "    X_train = iris.data\n",
    "    y_train = iris.target\n",
    "    return cross_validation.train_test_split(X_train, y_train, test_size=0.25, \n",
    "                                             random_state=0, stratify=y_train)"
   ]
  },
  {
   "cell_type": "markdown",
   "metadata": {},
   "source": [
    "编写测试函数"
   ]
  },
  {
   "cell_type": "code",
   "execution_count": 46,
   "metadata": {},
   "outputs": [],
   "source": [
    "def test_LogisticRegression(*data):\n",
    "    X_train,X_test,y_train,y_test = data\n",
    "    regr = linear_model.LogisticRegression()  # 参数 14个都采用默认值\n",
    "    regr.fit(X_train,y_train)\n",
    "    \n",
    "    print('Coefficinets:%s, intercept:%s'% (regr.coef_,regr.intercept_))\n",
    "    print('Score:%.2f'% regr.score(X_test,y_test))"
   ]
  },
  {
   "cell_type": "markdown",
   "metadata": {},
   "source": [
    "调用函数"
   ]
  },
  {
   "cell_type": "code",
   "execution_count": 47,
   "metadata": {},
   "outputs": [
    {
     "name": "stdout",
     "output_type": "stream",
     "text": [
      "Coefficinets:[[ 0.39310895  1.35470406 -2.12308303 -0.96477916]\n",
      " [ 0.22462128 -1.34888898  0.60067997 -1.24122398]\n",
      " [-1.50918214 -1.29436177  2.14150484  2.2961458 ]], intercept:[ 0.24122458  1.13775782 -1.09418724]\n",
      "Score:0.97\n"
     ]
    }
   ],
   "source": [
    "X_train,X_test,y_train,y_test = load_data()\n",
    "test_LogisticRegression(X_train,X_test,y_train,y_test)"
   ]
  },
  {
   "cell_type": "markdown",
   "metadata": {},
   "source": [
    "预测准确率是97%"
   ]
  },
  {
   "cell_type": "markdown",
   "metadata": {},
   "source": [
    "编写**多类分类**的测试函数,需要改两个参数"
   ]
  },
  {
   "cell_type": "code",
   "execution_count": 48,
   "metadata": {},
   "outputs": [],
   "source": [
    "def test_LogisticRegression_mutinomial(*data):\n",
    "    X_train,X_test,y_train,y_test = data\n",
    "    regr = linear_model.LogisticRegression(multi_class='multinomial', solver='lbfgs')\n",
    "    regr.fit(X_train,y_train)\n",
    "    \n",
    "    print('Coefficinets:%s, intercept:%s'% (regr.coef_,regr.intercept_))\n",
    "    print('Score:%.2f'% regr.score(X_test,y_test))"
   ]
  },
  {
   "cell_type": "code",
   "execution_count": 49,
   "metadata": {},
   "outputs": [
    {
     "name": "stdout",
     "output_type": "stream",
     "text": [
      "Coefficinets:[[-0.38364864  0.85514793 -2.27245169 -0.98438982]\n",
      " [ 0.34364497 -0.37347772 -0.03013523 -0.86120475]\n",
      " [ 0.04000367 -0.48167021  2.30258692  1.84559457]], intercept:[  8.79930393   2.46613158 -11.26543552]\n",
      "Score:1.00\n"
     ]
    }
   ],
   "source": [
    "X_train,X_test,y_train,y_test = load_data()\n",
    "test_LogisticRegression_mutinomial(X_train,X_test,y_train,y_test)"
   ]
  },
  {
   "cell_type": "markdown",
   "metadata": {},
   "source": [
    "预测准确率是100%"
   ]
  },
  {
   "cell_type": "markdown",
   "metadata": {},
   "source": [
    "---"
   ]
  },
  {
   "cell_type": "markdown",
   "metadata": {},
   "source": [
    "---"
   ]
  },
  {
   "cell_type": "markdown",
   "metadata": {},
   "source": [
    "**LDA线性判别分析**\n",
    "\n",
    "    同样采用鸢尾花数据集"
   ]
  },
  {
   "cell_type": "code",
   "execution_count": 50,
   "metadata": {},
   "outputs": [],
   "source": [
    "def test_LinearDiscriminantAnalysis(*data):\n",
    "    X_train,X_test,y_train,t_test = data\n",
    "    lda = discriminant_analysis.LinearDiscriminantAnalysis()\n",
    "    lda.fit(X_train,y_train)\n",
    "    \n",
    "    print('Cofficients:%s, intercept:%s'%(lda.coef_,lda.intercept_))\n",
    "    print('Score:%.2f'%lda.score(X_test,y_test))"
   ]
  },
  {
   "cell_type": "code",
   "execution_count": 51,
   "metadata": {},
   "outputs": [
    {
     "name": "stdout",
     "output_type": "stream",
     "text": [
      "Cofficients:[[  6.575853     9.75807593 -14.34026669 -21.39076537]\n",
      " [ -1.98385061  -3.49791089   4.21495042   2.60304299]\n",
      " [ -4.47116022  -6.09542385   9.85886057  18.29330864]], intercept:[-15.33097142   0.46730077 -30.53297367]\n",
      "Score:1.00\n"
     ]
    }
   ],
   "source": [
    "X_train,X_test,y_train,y_test = load_data()\n",
    "test_LinearDiscriminantAnalysis(X_train,X_test,y_train,y_test)"
   ]
  },
  {
   "cell_type": "markdown",
   "metadata": {},
   "source": [
    "绘制LDA降维后的数据集函数"
   ]
  },
  {
   "cell_type": "code",
   "execution_count": 56,
   "metadata": {},
   "outputs": [],
   "source": [
    "def plot_LDA(converted_X,y):\n",
    "    from mpl_toolkits.mplot3d import Axes3D\n",
    "    fig = plt.figure()\n",
    "    ax = Axes3D(fig)\n",
    "    colors = 'rgb'\n",
    "    markers = 'o*s'\n",
    "    \n",
    "    for target,color,marker in zip([0,1,2], colors, markers):\n",
    "        pos = (y==target).ravel()\n",
    "        X = converted_X[pos,:]\n",
    "        ax.scatter(X[:,0], X[:,1], X[:,2], color = color, marker = marker, \n",
    "                   label = \"Label %d\"%target)\n",
    "        ax.legend(loc=\"best\")\n",
    "        fig.suptitle(\"Iris after LDA\")\n",
    "        plt.show()"
   ]
  },
  {
   "cell_type": "markdown",
   "metadata": {},
   "source": [
    "调用上面的函数"
   ]
  },
  {
   "cell_type": "code",
   "execution_count": 57,
   "metadata": {},
   "outputs": [
    {
     "name": "stderr",
     "output_type": "stream",
     "text": [
      "S:\\Anaconda3\\lib\\site-packages\\sklearn\\utils\\validation.py:578: DataConversionWarning: A column-vector y was passed when a 1d array was expected. Please change the shape of y to (n_samples, ), for example using ravel().\n",
      "  y = column_or_1d(y, warn=True)\n"
     ]
    },
    {
     "data": {
      "image/png": "[encoded data removed]",
      "text/plain": [
       "<Figure size 432x288 with 1 Axes>"
      ]
     },
     "metadata": {
      "needs_background": "light"
     },
     "output_type": "display_data"
    }
   ],
   "source": [
    "X_train, X_test, y_train, y_test = load_data()\n",
    "X = np.vstack((X_train,X_test))\n",
    "Y = np.vstack((y_train.reshape(y_train.size,1), y_test.reshape(y_test.size,1)))\n",
    "lda = discriminant_analysis.LinearDiscriminantAnalysis()\n",
    "lda.fit(X,Y)\n",
    "converted_X = np.dot(X, np.transpose(lda.coef_)) + lda.intercept_\n",
    "plot_LDA(converted_X,Y)"
   ]
  },
  {
   "cell_type": "markdown",
   "metadata": {},
   "source": [
    "注：书上的图长得不是这样的···"
   ]
  },
  {
   "cell_type": "markdown",
   "metadata": {},
   "source": [
    "接下来考察不同的solver参数对预测性能的影响，编写测试函数如下："
   ]
  },
  {
   "cell_type": "code",
   "execution_count": 60,
   "metadata": {},
   "outputs": [],
   "source": [
    "def test_LinearDiscriminantAnalysis_solver(*data):\n",
    "    X_train,X_test,y_train,y_test = data\n",
    "    solvers = ['svd','lsqr','eigen']\n",
    "    for solver in solvers:\n",
    "        if(solver == 'svd'):\n",
    "            lda = discriminant_analysis.LinearDiscriminantAnalysis(solver=solver)\n",
    "        else:\n",
    "            lda = discriminant_analysis.LinearDiscriminantAnalysis(solver=solver, shrinkage = None)\n",
    "        lda.fit(X_train, y_train)\n",
    "        print('Score at solver=%s:%.2f'%(solver, lda.score(X_test,y_test)))"
   ]
  },
  {
   "cell_type": "markdown",
   "metadata": {},
   "source": [
    "调用函数"
   ]
  },
  {
   "cell_type": "code",
   "execution_count": 61,
   "metadata": {},
   "outputs": [
    {
     "name": "stdout",
     "output_type": "stream",
     "text": [
      "Score at solver=svd:1.00\n",
      "Score at solver=lsqr:1.00\n",
      "Score at solver=eigen:1.00\n"
     ]
    }
   ],
   "source": [
    "X_train,X_test,y_train,y_test = load_data()\n",
    "test_LinearDiscriminantAnalysis_solver(X_train,X_test,y_train,y_test)"
   ]
  },
  {
   "cell_type": "markdown",
   "metadata": {},
   "source": [
    "最后考察在solver=lsqr中引入抖动，即引入正则化项，测试函数如下"
   ]
  },
  {
   "cell_type": "code",
   "execution_count": 66,
   "metadata": {},
   "outputs": [],
   "source": [
    "def test_LinearDiscriminantAnalysis_shrinkage(*data):\n",
    "    X_train,X_test,y_train,y_test = data\n",
    "    shrinkages = np.linspace(0.0, 1.0, num = 20)\n",
    "    scores = []\n",
    "    \n",
    "    for shrinkage in shrinkages:\n",
    "        lda = discriminant_analysis.LinearDiscriminantAnalysis(solver='lsqr', shrinkage = shrinkage)\n",
    "        lda.fit(X_train,y_train)\n",
    "        scores.append(lda.score(X_test,y_test))\n",
    "        \n",
    "    ### 绘图\n",
    "    fig = plt.figure()\n",
    "    ax = fig.add_subplot(1,1,1)\n",
    "    ax.plot(shrinkages, scores)\n",
    "    ax.set_xlabel(r\"shrinkage\")\n",
    "    ax.set_ylabel(r\"score\")\n",
    "    ax.set_ylim(0, 1.05)\n",
    "    ax.set_title(\"LinearDiscriminantAnalysis\")\n",
    "    plt.show()"
   ]
  },
  {
   "cell_type": "code",
   "execution_count": 67,
   "metadata": {},
   "outputs": [
    {
     "data": {
      "image/png": "[encoded data removed]",
      "text/plain": [
       "<Figure size 432x288 with 1 Axes>"
      ]
     },
     "metadata": {
      "needs_background": "light"
     },
     "output_type": "display_data"
    }
   ],
   "source": [
    "X_train,X_test,y_train,y_test = load_data()\n",
    "test_LinearDiscriminantAnalysis_shrinkage(X_train,X_test,y_train,y_test)"
   ]
  },
  {
   "cell_type": "code",
   "execution_count": null,
   "metadata": {},
   "outputs": [],
   "source": []
  }
 ],
 "metadata": {
  "kernelspec": {
   "display_name": "Python 3",
   "language": "python",
   "name": "python3"
  },
  "language_info": {
   "codemirror_mode": {
    "name": "ipython",
    "version": 3
   },
   "file_extension": ".py",
   "mimetype": "text/x-python",
   "name": "python",
   "nbconvert_exporter": "python",
   "pygments_lexer": "ipython3",
   "version": "3.7.0"
  }
 },
 "nbformat": 4,
 "nbformat_minor": 2
}
