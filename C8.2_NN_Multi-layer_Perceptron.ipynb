{
 "cells": [
  {
   "cell_type": "code",
   "execution_count": 1,
   "metadata": {},
   "outputs": [],
   "source": [
    "import numpy as np\n",
    "from matplotlib import pyplot as plt\n",
    "from mpl_toolkits.mplot3d import Axes3D\n",
    "from sklearn.neural_network import MLPClassifier\n",
    "from sklearn.datasets import load_iris"
   ]
  },
  {
   "cell_type": "markdown",
   "metadata": {},
   "source": [
    "生成线性不可分数据集："
   ]
  },
  {
   "cell_type": "code",
   "execution_count": 2,
   "metadata": {},
   "outputs": [],
   "source": [
    "def creat_data_no_linear_2d(n):\n",
    "    np.random.seed(1)\n",
    "    x_11 = np.random.randint(0,100,(n,1))  # 随机生成一个二元数组，范围是0-100，数组维度是n行1列 \n",
    "    x_12 = 10+np.random.randint(-5,5,(n,1,))\n",
    "    \n",
    "    x_21 = np.random.randint(0,100,(n,1,))\n",
    "    x_22 = 20+np.random.randint(0,10,(n,1,))\n",
    "    \n",
    "    x_31 = np.random.randint(0,100,(int(n/10),1))\n",
    "    x_32 = 20+np.random.randint(0,10,(int(n/10),1))\n",
    "    \n",
    "    new_x_11 = x_11*np.sqrt(2)/2-x_12*np.sqrt(2)/2\n",
    "    new_x_12 = x_11*np.sqrt(2)/2+x_12*np.sqrt(2)/2\n",
    "    new_x_21 = x_21*np.sqrt(2)/2-x_22*np.sqrt(2)/2 # 沿x粥旋转45度\n",
    "    new_x_22 = x_22*np.sqrt(2)/2+x_22*np.sqrt(2)/2\n",
    "    new_x_31 = x_31*np.sqrt(2)/2-x_32*np.sqrt(2)/2\n",
    "    new_x_32 = x_32*np.sqrt(2)/2+x_32*np.sqrt(2)/2\n",
    "    \n",
    "    plus_samples = np.hstack([new_x_11,new_x_12,np.ones((n,1))])\n",
    "    minus_samples = np.hstack([new_x_21,new_x_22,-np.ones((n,1))])\n",
    "    err_samples = np.hstack([new_x_31,new_x_32,np.ones((int(n/10),1))])\n",
    "    samples = np.vstack([plus_samples,minus_samples,err_samples])\n",
    "    np.random.shuffle(samples)\n",
    "    return samples"
   ]
  },
  {
   "cell_type": "markdown",
   "metadata": {},
   "source": [
    "绘制数据："
   ]
  },
  {
   "cell_type": "code",
   "execution_count": 3,
   "metadata": {},
   "outputs": [],
   "source": [
    "def plot_samples_2d(ax,samples):\n",
    "    Y = samples[:,-1]\n",
    "    position_p = Y ==1\n",
    "    position_m = Y ==-1\n",
    "    ax.scatter(samples[position_p,0],samples[position_p,1],\n",
    "              marker='+', label='+', color='b')\n",
    "    ax.scatter(samples[position_m,0],samples[position_m,1],\n",
    "              marker='^', label='-', color='r')"
   ]
  },
  {
   "cell_type": "markdown",
   "metadata": {},
   "source": [
    "调用该函数："
   ]
  },
  {
   "cell_type": "code",
   "execution_count": 5,
   "metadata": {},
   "outputs": [
    {
     "data": {
      "image/png": "[encoded data removed]",
      "text/plain": [
       "<Figure size 432x288 with 1 Axes>"
      ]
     },
     "metadata": {
      "needs_background": "light"
     },
     "output_type": "display_data"
    }
   ],
   "source": [
    "fig = plt.figure()\n",
    "ax = fig.add_subplot(1,1,1)\n",
    "data = creat_data_no_linear_2d(100)\n",
    "plot_samples_2d(ax,data)\n",
    "ax.legend(loc='best')\n",
    "plt.show()"
   ]
  },
  {
   "cell_type": "markdown",
   "metadata": {},
   "source": [
    "用多层神经网络**MLPClassifier**来处理非线性数据集："
   ]
  },
  {
   "cell_type": "code",
   "execution_count": 13,
   "metadata": {},
   "outputs": [],
   "source": [
    "def predict_with_MLPClassifier(ax,train_data):\n",
    "    train_x = train_data[:,:-1]\n",
    "    train_y = train_data[:,-1]\n",
    "    clf = MLPClassifier(activation='logistic',max_iter=1000) # 构造分类器实例\n",
    "    clf.fit(train_x,train_y)\n",
    "    print(clf.score(train_x,train_y))\n",
    "    \n",
    "    ### 用训练好的训练集预测平面每一点的输出\n",
    "    x_min, x_max = train_x[:,0].min()-1, train_x[:,0].max()+2\n",
    "    y_min, y_max = train_x[:,1].min()-1, train_x[:,1].max()+2\n",
    "    plot_step = 1\n",
    "    xx, yy = np.meshgrid(np.arange(x_min, x_max, plot_step),\n",
    "                        np.arange(y_min,y_max,plot_step))\n",
    "    Z = clf.predict(np.c_[xx.ravel(), yy.ravel()])\n",
    "    Z = Z.reshape(xx.shape)\n",
    "    ax.contourf(xx,yy,Z,cmap=plt.cm.Paired)"
   ]
  },
  {
   "cell_type": "code",
   "execution_count": 16,
   "metadata": {},
   "outputs": [
    {
     "name": "stdout",
     "output_type": "stream",
     "text": [
      "0.8857142857142857\n"
     ]
    },
    {
     "data": {
      "image/png": "[encoded data removed]",
      "text/plain": [
       "<Figure size 432x288 with 1 Axes>"
      ]
     },
     "metadata": {
      "needs_background": "light"
     },
     "output_type": "display_data"
    }
   ],
   "source": [
    "fig = plt.figure()\n",
    "data = creat_data_no_linear_2d(50)\n",
    "ax = fig.add_subplot(1,1,1)\n",
    "predict_with_MLPClassifier(ax,data)\n",
    "plot_samples_2d(ax,data)\n",
    "ax.legend(loc=\"best\")\n",
    "plt.show()"
   ]
  },
  {
   "cell_type": "code",
   "execution_count": null,
   "metadata": {},
   "outputs": [],
   "source": []
  }
 ],
 "metadata": {
  "kernelspec": {
   "display_name": "Python 3",
   "language": "python",
   "name": "python3"
  },
  "language_info": {
   "codemirror_mode": {
    "name": "ipython",
    "version": 3
   },
   "file_extension": ".py",
   "mimetype": "text/x-python",
   "name": "python",
   "nbconvert_exporter": "python",
   "pygments_lexer": "ipython3",
   "version": "3.7.0"
  }
 },
 "nbformat": 4,
 "nbformat_minor": 2
}
