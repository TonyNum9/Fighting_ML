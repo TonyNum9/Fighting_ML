{
 "cells": [
  {
   "cell_type": "markdown",
   "metadata": {},
   "source": [
    "这个文档实现了半监督学习(sklearn.semi_supervised):\n",
    "1. .LabelPropagation(考察rbf,knn)\n",
    "2. .LabelSpreading(考察rbf,knn)"
   ]
  },
  {
   "cell_type": "code",
   "execution_count": 1,
   "metadata": {},
   "outputs": [],
   "source": [
    "import numpy as np\n",
    "import matplotlib.pyplot as plt\n",
    "from sklearn import metrics\n",
    "from sklearn import datasets \n",
    "from sklearn.semi_supervised import LabelPropagation"
   ]
  },
  {
   "cell_type": "markdown",
   "metadata": {},
   "source": [
    "给出加载数据集的函数load_data():"
   ]
  },
  {
   "cell_type": "code",
   "execution_count": 6,
   "metadata": {},
   "outputs": [],
   "source": [
    "def load_data():\n",
    "    '''加载数据集，返回一个元组，依次为：样本集合，样本标记集合，未标记样本的下标集合\n",
    "    '''\n",
    "    digits = datasets.load_digits()\n",
    "    \n",
    "    ###### 混洗样本 ######\n",
    "    rng = np.random.RandomState(0)\n",
    "    indices = np.arange(len(digits.data)) # 样本下标集合\n",
    "    rng.shuffle(indices)  # 混洗样本下标集合\n",
    "    X = digits.data[indices]\n",
    "    y = digits.target[indices]\n",
    "    \n",
    "    ###### 生成未标记样本的下标集合 ######\n",
    "    n_labeled_points = int(len(y)/10) # 只有10%的样本有标记\n",
    "    unlabeled_indices = np.arange(len(y))[n_labeled_points:] # 后面90%的样本未标记\n",
    "    \n",
    "    return X,y,unlabeled_indices"
   ]
  },
  {
   "cell_type": "markdown",
   "metadata": {},
   "source": [
    "给出使用LabelPropagation的函数："
   ]
  },
  {
   "cell_type": "code",
   "execution_count": 11,
   "metadata": {},
   "outputs": [],
   "source": [
    "def test_LabelPropagation(*data):\n",
    "    X,y,unlabeled_indices = data\n",
    "    y_train = np.copy(y) # 必须复制，因为后面的操作会修改y_train\n",
    "    y_train[unlabeled_indices] = -1 # 未标记样本的标记设定为-1\n",
    "    clf = LabelPropagation(max_iter=100,kernel='rbf',gamma=0.1)\n",
    "    clf.fit(X,y_train)\n",
    "    \n",
    "    ### 获取预测准确率 ###\n",
    "    true_labels = y[unlabeled_indices]  # 真实标记\n",
    "    print(\"Accuracy:%f\" %clf.score(X[unlabeled_indices],true_labels))"
   ]
  },
  {
   "cell_type": "markdown",
   "metadata": {},
   "source": [
    "调用该函数："
   ]
  },
  {
   "cell_type": "code",
   "execution_count": 12,
   "metadata": {},
   "outputs": [
    {
     "name": "stdout",
     "output_type": "stream",
     "text": [
      "Accuracy:0.948084\n"
     ]
    }
   ],
   "source": [
    "data = load_data()\n",
    "test_LabelPropagation(*data)"
   ]
  },
  {
   "cell_type": "markdown",
   "metadata": {},
   "source": [
    "接下来考察折中系数alpha以及gamma参数对于rbf核的性能影响："
   ]
  },
  {
   "cell_type": "code",
   "execution_count": 17,
   "metadata": {},
   "outputs": [],
   "source": [
    "def test_LabelPropagation_rbf(*data):\n",
    "    X,y,unlabeled_indices = data\n",
    "    y_train = np.copy(y)\n",
    "    y_train[unlabeled_indices] = -1\n",
    "    \n",
    "    fig = plt.figure()\n",
    "    ax = fig.add_subplot(1,1,1)\n",
    "    alphas = np.linspace(0.01,1,num=10,endpoint=True)\n",
    "    gammas = np.logspace(-2,2,num=50)\n",
    "    colors=((1,0,0),(0,1,0),(0,0,1),(0.5,0.5,0),(0,0.5,0.5),(0.5,0,0.5),\n",
    "           (0.4,0.6,0),(0.6,0.4,0),(0,0.6,0.4),(0.5,0.3,0.2),)\n",
    "    \n",
    "    ### 训练并绘图\n",
    "    for alpha,color in zip(alphas,colors):\n",
    "        scores=[]\n",
    "        for gamma in gammas:\n",
    "            clf = LabelPropagation(max_iter=100,gamma=gamma,alpha=alpha,kernel='rbf')\n",
    "            clf.fit(X,y_train)\n",
    "            scores.append(clf.score(X[unlabeled_indices],y[unlabeled_indices]))\n",
    "        ax.plot(gammas,scores,label=r\"$\\alpha=%s$\" %alpha,color=color)\n",
    "    \n",
    "    ### 设置图形\n",
    "    ax.set_xlabel(r\"$\\alpha$\")\n",
    "    ax.set_ylabel(\"score\")\n",
    "    ax.set_xscale(\"log\")\n",
    "    ax.ser_title(\"LabelPropagation rbf kernel\")\n",
    "    ax.legend(loc=\"best\")\n",
    "    plt.show()"
   ]
  },
  {
   "cell_type": "markdown",
   "metadata": {},
   "source": [
    "调用该测试函数："
   ]
  },
  {
   "cell_type": "code",
   "execution_count": null,
   "metadata": {
    "scrolled": true
   },
   "outputs": [],
   "source": [
    "data = load_data()\n",
    "test_LabelPropagation_rbf(*data)"
   ]
  },
  {
   "cell_type": "code",
   "execution_count": null,
   "metadata": {},
   "outputs": [],
   "source": []
  }
 ],
 "metadata": {
  "kernelspec": {
   "display_name": "Python 3",
   "language": "python",
   "name": "python3"
  },
  "language_info": {
   "codemirror_mode": {
    "name": "ipython",
    "version": 3
   },
   "file_extension": ".py",
   "mimetype": "text/x-python",
   "name": "python",
   "nbconvert_exporter": "python",
   "pygments_lexer": "ipython3",
   "version": "3.7.0"
  }
 },
 "nbformat": 4,
 "nbformat_minor": 2
}
